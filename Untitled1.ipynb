{
  "nbformat": 4,
  "nbformat_minor": 0,
  "metadata": {
    "colab": {
      "provenance": [],
      "authorship_tag": "ABX9TyMrM02pp/YQ5Br0v0I5ajWc",
      "include_colab_link": true
    },
    "kernelspec": {
      "name": "python3",
      "display_name": "Python 3"
    },
    "language_info": {
      "name": "python"
    }
  },
  "cells": [
    {
      "cell_type": "markdown",
      "metadata": {
        "id": "view-in-github",
        "colab_type": "text"
      },
      "source": [
        "<a href=\"https://colab.research.google.com/github/Juanconvar/Calculadora/blob/main/Untitled1.ipynb\" target=\"_parent\"><img src=\"https://colab.research.google.com/assets/colab-badge.svg\" alt=\"Open In Colab\"/></a>"
      ]
    },
    {
      "cell_type": "code",
      "execution_count": 1,
      "metadata": {
        "colab": {
          "base_uri": "https://localhost:8080/"
        },
        "id": "80mCSz0NXELg",
        "outputId": "fc99174c-064d-4c82-9e83-232c5aad81d9"
      },
      "outputs": [
        {
          "output_type": "stream",
          "name": "stdout",
          "text": [
            "[100, 300, 57]\n"
          ]
        }
      ],
      "source": [
        "lista_numeros = [100,300,57]\n",
        "tupla_numeros = tuple(lista_numeros)\n",
        "lista_final = list(tupla_numeros)\n",
        "print(lista_final)\n"
      ]
    },
    {
      "cell_type": "code",
      "source": [
        "camisas = (\"camisa gucci\",\"camisa nike\",\" camisa armani\")\n",
        "precios_camisas = {\"camisa gucci\":2000 , \"camisa nike\":30,\"camisa armani\":1000}\n",
        "camisas_mas_100 = {camisa: precio for camisa,precio in precios_camisas.items() if precio >100}\n",
        "print(camisas_mas_100)\n"
      ],
      "metadata": {
        "colab": {
          "base_uri": "https://localhost:8080/"
        },
        "id": "rQB4TLQnXzSk",
        "outputId": "73792328-447e-4073-dd26-3acc42ee6f51"
      },
      "execution_count": 2,
      "outputs": [
        {
          "output_type": "stream",
          "name": "stdout",
          "text": [
            "{'camisa gucci': 2000, 'camisa armani': 1000}\n"
          ]
        }
      ]
    },
    {
      "cell_type": "code",
      "source": [
        "from collections import Counter\n",
        "\n",
        "lista_palabras = [\"hola\", \"mañana\",\"tarde\",\"noche\",\"dia\",\"dia\",\"mañana\",\"dia\"]\n",
        "contador_palabras = Counter(lista_palabras)\n",
        "print(contador_palabras)\n",
        "\n"
      ],
      "metadata": {
        "colab": {
          "base_uri": "https://localhost:8080/"
        },
        "id": "UrvNoNFpY2Sj",
        "outputId": "47f18cf2-b3ba-44be-9d8f-521d129649dd"
      },
      "execution_count": 3,
      "outputs": [
        {
          "output_type": "stream",
          "name": "stdout",
          "text": [
            "Counter({'dia': 3, 'mañana': 2, 'hola': 1, 'tarde': 1, 'noche': 1})\n"
          ]
        }
      ]
    },
    {
      "cell_type": "code",
      "source": [
        "import numpy as np\n",
        "filas = int(input(\"Ingrese el numero de filas: \"))\n",
        "columnas = int(input(\"Ingrese el numero de columnas: \"))\n",
        "matriz = []\n",
        "for i in range(filas):\n",
        "  fila = []\n",
        "  for j in range(columnas):\n",
        "    valor = int(input(f\"Ingrese el valor para la posicion ({i+1},{j+1}): \"))\n",
        "    fila.append(valor)\n",
        "  matriz.append(fila)\n",
        "\n",
        "matriz_np = np.array (matriz)\n",
        "suma_total = np.sum(matriz_np)\n",
        "pormedio = np.mean(matriz_np)\n",
        "\n",
        "print (f\"suma total : {suma_total}\")\n",
        "print (f\"promedio : {pormedio}\")\n",
        "\n",
        "\n"
      ],
      "metadata": {
        "colab": {
          "base_uri": "https://localhost:8080/"
        },
        "id": "qZBVH86kapvt",
        "outputId": "19aa5876-5605-4eba-8fcd-d8efefc1bf19"
      },
      "execution_count": 9,
      "outputs": [
        {
          "output_type": "stream",
          "name": "stdout",
          "text": [
            "Ingrese el numero de filas: 3\n",
            "Ingrese el numero de columnas: 3\n",
            "Ingrese el valor para la posicion (1,1): 12\n",
            "Ingrese el valor para la posicion (1,2): 21\n",
            "Ingrese el valor para la posicion (1,3): 332\n",
            "Ingrese el valor para la posicion (2,1): 1212\n",
            "Ingrese el valor para la posicion (2,2): 1212\n",
            "Ingrese el valor para la posicion (2,3): 213\n",
            "Ingrese el valor para la posicion (3,1): 213124\n",
            "Ingrese el valor para la posicion (3,2): 1\n",
            "Ingrese el valor para la posicion (3,3): 2\n",
            "suma total : 216129\n",
            "promedio : 24014.333333333332\n"
          ]
        }
      ]
    },
    {
      "cell_type": "code",
      "source": [
        "productos = [\n",
        "    {\"nombre\": \"Producto 1\", \"precio\": 250},\n",
        "    {\"nombre\": \"Producto 2\", \"precio\": 1275},\n",
        "    {\"nombre\": \"Producto 3\", \"precio\": 12100}\n",
        "\n",
        "]\n",
        "suma_total_precios = sum(producto[\"precio\"] for producto in productos)\n",
        "\n",
        "print(f\"Suma total de precios: {suma_total_precios}\")"
      ],
      "metadata": {
        "colab": {
          "base_uri": "https://localhost:8080/"
        },
        "id": "ma69inuQdtLA",
        "outputId": "a3cc2a48-c0a8-4c0e-fb19-0c14c6a2236d"
      },
      "execution_count": 11,
      "outputs": [
        {
          "output_type": "stream",
          "name": "stdout",
          "text": [
            "Suma total de precios: 13625\n"
          ]
        }
      ]
    }
  ]
}