{
  "nbformat": 4,
  "nbformat_minor": 0,
  "metadata": {
    "colab": {
      "provenance": [],
      "authorship_tag": "ABX9TyPUlUmdKrFxejE1sWC2BM0z",
      "include_colab_link": true
    },
    "kernelspec": {
      "name": "python3",
      "display_name": "Python 3"
    },
    "language_info": {
      "name": "python"
    }
  },
  "cells": [
    {
      "cell_type": "markdown",
      "metadata": {
        "id": "view-in-github",
        "colab_type": "text"
      },
      "source": [
        "<a href=\"https://colab.research.google.com/github/Juanconvar/Calculadora/blob/main/Untitled8.ipynb\" target=\"_parent\"><img src=\"https://colab.research.google.com/assets/colab-badge.svg\" alt=\"Open In Colab\"/></a>"
      ]
    },
    {
      "cell_type": "code",
      "execution_count": 2,
      "metadata": {
        "colab": {
          "base_uri": "https://localhost:8080/"
        },
        "id": "oDleKMaZDCm9",
        "outputId": "9fac4efc-2ef2-4e0d-9b89-2201f4238df5"
      },
      "outputs": [
        {
          "output_type": "stream",
          "name": "stdout",
          "text": [
            "Prenda: Camisa, Talla: M, Color: Azul, Cantidad: 10\n",
            "Prenda: Zapatos, Talla: 42, Color: Negro, Cantidad: 15\n",
            "Prenda: Pantalones, Talla: 32, Color: Gris, Cantidad: 20\n"
          ]
        }
      ],
      "source": [
        "class Ropa:\n",
        "    def __init__(self, tipo_prenda, talla, color, cantidad):\n",
        "        self.tipo_prenda = tipo_prenda\n",
        "        self.talla = talla\n",
        "        self.color = color\n",
        "        self.cantidad = cantidad\n",
        "\n",
        "\n",
        "lista_ropa = [\n",
        "    Ropa(\"Camisa\", \"M\", \"Azul\", 10),\n",
        "    Ropa(\"Zapatos\", \"42\", \"Negro\", 15),\n",
        "    Ropa(\"Pantalones\", \"32\", \"Gris\", 20)\n",
        "]\n",
        "\n",
        "\n",
        "for prenda in lista_ropa:\n",
        "    print(f\"Prenda: {prenda.tipo_prenda}, Talla: {prenda.talla}, Color: {prenda.color}, Cantidad: {prenda.cantidad}\")\n",
        "\n"
      ]
    },
    {
      "cell_type": "code",
      "source": [
        "class InventarioAula:\n",
        "    def __init__(self, objeto, cantidad, estado):\n",
        "        self.objeto = objeto\n",
        "        self.cantidad = cantidad\n",
        "        self.estado = estado\n",
        "\n",
        "\n",
        "lista_inventario = [\n",
        "    InventarioAula(\"Escritorios\", 20, \"usado\"),\n",
        "    InventarioAula(\"Computadoras\", 10, \"Usado\"),\n",
        "    InventarioAula(\"Mouse\", 10, \"Nuevo\"),\n",
        "    InventarioAula(\"Teclados\", 10, \"Nuevo\"),\n",
        "    InventarioAula(\"Sillas\", 20, \"usado\"),\n",
        "    InventarioAula(\"Tablero\", 1, \"usado\"),\n",
        "    InventarioAula(\"Televisión\", 1, \"Usado\")\n",
        "]\n",
        "\n",
        "for item in lista_inventario:\n",
        "    print(f\"Objeto: {item.objeto}, Cantidad: {item.cantidad}, Estado: {item.estado}\")\n"
      ],
      "metadata": {
        "colab": {
          "base_uri": "https://localhost:8080/"
        },
        "id": "GQvmqXHKEPbS",
        "outputId": "f91c4758-b390-47fa-ae6b-3412fcb55d97"
      },
      "execution_count": 8,
      "outputs": [
        {
          "output_type": "stream",
          "name": "stdout",
          "text": [
            "Objeto: Escritorios, Cantidad: 20, Estado: usado\n",
            "Objeto: Computadoras, Cantidad: 10, Estado: Usado\n",
            "Objeto: Mouse, Cantidad: 10, Estado: Nuevo\n",
            "Objeto: Teclados, Cantidad: 10, Estado: Nuevo\n",
            "Objeto: Sillas, Cantidad: 20, Estado: usado\n",
            "Objeto: Tablero, Cantidad: 1, Estado: usado\n",
            "Objeto: Televisión, Cantidad: 1, Estado: Usado\n"
          ]
        }
      ]
    },
    {
      "cell_type": "code",
      "source": [
        "class TikTokFamoso:\n",
        "    def __init__(self, nombre_famoso, cantidad_tiktok_subidos):\n",
        "        self.nombre_famoso = nombre_famoso\n",
        "        self.cantidad_tiktok_subidos = cantidad_tiktok_subidos\n",
        "\n",
        "\n",
        "lista_tiktok = [\n",
        "    TikTokFamoso(\"feid\", 350),\n",
        "    TikTokFamoso(\"carin leon\", 278),\n",
        "    TikTokFamoso(\"luis alfonzo \", cantidad_tiktok_subidos=456)\n",
        "]\n",
        "\n",
        "\n",
        "for famoso in lista_tiktok:\n",
        "    print(f\"Nombre Famoso: {famoso.nombre_famoso}, Cantidad de TikToks subidos: {famoso.cantidad_tiktok_subidos}\")\n"
      ],
      "metadata": {
        "colab": {
          "base_uri": "https://localhost:8080/"
        },
        "id": "HCo4Lt1cEecu",
        "outputId": "e8e347dc-b0e0-41de-ea86-ce3a58a9e6b0"
      },
      "execution_count": 7,
      "outputs": [
        {
          "output_type": "stream",
          "name": "stdout",
          "text": [
            "Nombre Famoso: feid, Cantidad de TikToks subidos: 350\n",
            "Nombre Famoso: carin leon, Cantidad de TikToks subidos: 278\n",
            "Nombre Famoso: luis alfonzo , Cantidad de TikToks subidos: 456\n"
          ]
        }
      ]
    }
  ]
}