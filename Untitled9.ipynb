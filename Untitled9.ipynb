{
  "nbformat": 4,
  "nbformat_minor": 0,
  "metadata": {
    "colab": {
      "provenance": [],
      "authorship_tag": "ABX9TyMTIlJIQrQV81Jnjo0JEN3Z",
      "include_colab_link": true
    },
    "kernelspec": {
      "name": "python3",
      "display_name": "Python 3"
    },
    "language_info": {
      "name": "python"
    }
  },
  "cells": [
    {
      "cell_type": "markdown",
      "metadata": {
        "id": "view-in-github",
        "colab_type": "text"
      },
      "source": [
        "<a href=\"https://colab.research.google.com/github/Juanconvar/Calculadora/blob/main/Untitled9.ipynb\" target=\"_parent\"><img src=\"https://colab.research.google.com/assets/colab-badge.svg\" alt=\"Open In Colab\"/></a>"
      ]
    },
    {
      "cell_type": "code",
      "source": [
        "class Nodo:\n",
        "    def __init__(self, id_estudiante, nombre, apellido, semestre):\n",
        "        self.id_estudiante = id_estudiante\n",
        "        self.nombre = nombre\n",
        "        self.apellido = apellido\n",
        "        self.semestre = semestre\n",
        "        self.siguiente = None\n",
        "        self.anterior = None\n",
        "\n",
        "class ListaDobleEnlazada:\n",
        "    def __init__(self):\n",
        "        self.cabeza = None\n",
        "\n",
        "    def insertar(self, id_estudiante, nombre, apellido, semestre):\n",
        "        nuevo_nodo = Nodo(id_estudiante, nombre, apellido, semestre)\n",
        "\n",
        "        if not self.cabeza:\n",
        "            self.cabeza = nuevo_nodo\n",
        "        else:\n",
        "            actual = self.cabeza\n",
        "            while actual.siguiente:\n",
        "                actual = actual.siguiente\n",
        "            actual.siguiente = nuevo_nodo\n",
        "            nuevo_nodo.anterior = actual\n",
        "\n",
        "    def ordenar(self):\n",
        "        if not self.cabeza or not self.cabeza.siguiente:\n",
        "            return\n",
        "\n",
        "\n",
        "        actual = self.cabeza\n",
        "        while actual:\n",
        "            menor = actual\n",
        "            siguiente = actual.siguiente\n",
        "\n",
        "            while siguiente:\n",
        "                if siguiente.id_estudiante < menor.id_estudiante:\n",
        "                    menor = siguiente\n",
        "                siguiente = siguiente.siguiente\n",
        "\n",
        "\n",
        "            if menor != actual:\n",
        "\n",
        "                actual.id_estudiante, menor.id_estudiante = menor.id_estudiante, actual.id_estudiante\n",
        "                actual.nombre, menor.nombre = menor.nombre, actual.nombre\n",
        "                actual.apellido, menor.apellido = menor.apellido, actual.apellido\n",
        "                actual.semestre, menor.semestre = menor.semestre, actual.semestre\n",
        "\n",
        "            actual = actual.siguiente\n",
        "\n",
        "    def mostrar(self):\n",
        "        actual = self.cabeza\n",
        "        while actual:\n",
        "            print(f\"ID: {actual.id_estudiante}, Nombre: {actual.nombre}, Apellido: {actual.apellido}, Semestre: {actual.semestre}\")\n",
        "            actual = actual.siguiente\n",
        "\n",
        "\n",
        "lista = ListaDobleEnlazada()\n",
        "\n",
        "\n",
        "lista.insertar(10001, \"Felipe\", \"Alonso\", \"1\")\n",
        "lista.insertar(10002, \"Carla\", \"Pérez\", \"2\")\n",
        "lista.insertar(10003, \"Roberto\", \"Hernández\", \"1\")\n",
        "lista.insertar(10004, \"Sofia\", \"Rojas\", \"3\")\n",
        "lista.insertar(10005, \"Marcos\", \"Martínez\", \"2\")\n",
        "lista.insertar(10006, \"Valeria\", \"Jiménez\", \"1\")\n",
        "lista.insertar(10007, \"Andrés\", \"López\", \"2\")\n",
        "lista.insertar(10008, \"Lucía\", \"Torres\", \"3\")\n",
        "lista.insertar(10009, \"Javier\", \"Cruz\", \"4\")\n",
        "\n",
        "print(\"Antes de ordenar:\")\n",
        "lista.mostrar()\n",
        "\n",
        "lista.ordenar()\n",
        "\n",
        "print(\"\\nDespués de ordenar:\")\n",
        "lista.mostrar()\n"
      ],
      "metadata": {
        "colab": {
          "base_uri": "https://localhost:8080/"
        },
        "id": "ZGO_w2cA_iTe",
        "outputId": "164e05c7-9ef5-48a4-d28a-0dcf4abe4656"
      },
      "execution_count": 2,
      "outputs": [
        {
          "output_type": "stream",
          "name": "stdout",
          "text": [
            "Antes de ordenar:\n",
            "ID: 10001, Nombre: Felipe, Apellido: Alonso, Semestre: 1\n",
            "ID: 10002, Nombre: Carla, Apellido: Pérez, Semestre: 2\n",
            "ID: 10003, Nombre: Roberto, Apellido: Hernández, Semestre: 1\n",
            "ID: 10004, Nombre: Sofia, Apellido: Rojas, Semestre: 3\n",
            "ID: 10005, Nombre: Marcos, Apellido: Martínez, Semestre: 2\n",
            "ID: 10006, Nombre: Valeria, Apellido: Jiménez, Semestre: 1\n",
            "ID: 10007, Nombre: Andrés, Apellido: López, Semestre: 2\n",
            "ID: 10008, Nombre: Lucía, Apellido: Torres, Semestre: 3\n",
            "ID: 10009, Nombre: Javier, Apellido: Cruz, Semestre: 4\n",
            "\n",
            "Después de ordenar:\n",
            "ID: 10001, Nombre: Felipe, Apellido: Alonso, Semestre: 1\n",
            "ID: 10002, Nombre: Carla, Apellido: Pérez, Semestre: 2\n",
            "ID: 10003, Nombre: Roberto, Apellido: Hernández, Semestre: 1\n",
            "ID: 10004, Nombre: Sofia, Apellido: Rojas, Semestre: 3\n",
            "ID: 10005, Nombre: Marcos, Apellido: Martínez, Semestre: 2\n",
            "ID: 10006, Nombre: Valeria, Apellido: Jiménez, Semestre: 1\n",
            "ID: 10007, Nombre: Andrés, Apellido: López, Semestre: 2\n",
            "ID: 10008, Nombre: Lucía, Apellido: Torres, Semestre: 3\n",
            "ID: 10009, Nombre: Javier, Apellido: Cruz, Semestre: 4\n"
          ]
        }
      ]
    }
  ]
}