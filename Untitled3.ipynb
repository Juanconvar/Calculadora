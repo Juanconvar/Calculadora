{
  "nbformat": 4,
  "nbformat_minor": 0,
  "metadata": {
    "colab": {
      "provenance": [],
      "authorship_tag": "ABX9TyPHT/kG6EJigfy07Jh+bquA",
      "include_colab_link": true
    },
    "kernelspec": {
      "name": "python3",
      "display_name": "Python 3"
    },
    "language_info": {
      "name": "python"
    }
  },
  "cells": [
    {
      "cell_type": "markdown",
      "metadata": {
        "id": "view-in-github",
        "colab_type": "text"
      },
      "source": [
        "<a href=\"https://colab.research.google.com/github/Juanconvar/Calculadora/blob/main/Untitled3.ipynb\" target=\"_parent\"><img src=\"https://colab.research.google.com/assets/colab-badge.svg\" alt=\"Open In Colab\"/></a>"
      ]
    },
    {
      "cell_type": "code",
      "execution_count": 3,
      "metadata": {
        "colab": {
          "base_uri": "https://localhost:8080/"
        },
        "id": "PTf3btWPILDB",
        "outputId": "e241dd01-ac91-4358-e69f-c35e37e9ac3e"
      },
      "outputs": [
        {
          "output_type": "stream",
          "name": "stdout",
          "text": [
            "Introduce el primer conjunto de números (separados por espacios): 12 13 14 56\n",
            "Introduce el segundo conjunto de números (separados por espacios): 23 44 5 6\n",
            "Números en la intersección mayores a 10:\n"
          ]
        }
      ],
      "source": [
        "def main():\n",
        "\n",
        "    conjunto1 = set(map(int, input(\"Introduce el primer conjunto de números (separados por espacios): \").split()))\n",
        "\n",
        "    conjunto2 = set(map(int, input(\"Introduce el segundo conjunto de números (separados por espacios): \").split()))\n",
        "\n",
        "\n",
        "    interseccion = conjunto1.intersection(conjunto2)\n",
        "\n",
        "\n",
        "    print(\"Números en la intersección mayores a 10:\")\n",
        "    for numero in interseccion:\n",
        "        if numero > 10:\n",
        "            print(numero)\n",
        "\n",
        "if __name__ == \"__main__\":\n",
        "    main()\n",
        "\n"
      ]
    },
    {
      "cell_type": "code",
      "source": [
        "def main():\n",
        "\n",
        "    conjunto1 = set(input(\"Introduce el primer conjunto de palabras (separadas por espacios): \").split())\n",
        "\n",
        "    conjunto2 = set(input(\"Introduce el segundo conjunto de palabras (separadas por espacios): \").split())\n",
        "\n",
        "    interseccion = conjunto1.intersection(conjunto2)\n",
        "\n",
        "    print(\"Palabras en la intersección de ambos conjuntos:\")\n",
        "    for palabra in interseccion:\n",
        "        print(palabra)\n",
        "\n",
        "if __name__ == \"__main__\":\n",
        "    main()\n"
      ],
      "metadata": {
        "colab": {
          "base_uri": "https://localhost:8080/"
        },
        "id": "S31DaWy1KAQc",
        "outputId": "62f73427-7199-43e3-f4a6-af46d9015cda"
      },
      "execution_count": 4,
      "outputs": [
        {
          "output_type": "stream",
          "name": "stdout",
          "text": [
            "Introduce el primer conjunto de palabras (separadas por espacios): arte pincel tambor\n",
            "Introduce el segundo conjunto de palabras (separadas por espacios): arte pincel carro\n",
            "Palabras en la intersección de ambos conjuntos:\n",
            "arte\n",
            "pincel\n"
          ]
        }
      ]
    },
    {
      "cell_type": "code",
      "source": [
        "def main():\n",
        "    conjunto1 = set(map(int, input(\"Introduce el primer conjunto de números (separados por espacios): \").split()))\n",
        "\n",
        "    conjunto2 = set(map(int, input(\"Introduce el segundo conjunto de números (separados por espacios): \").split()))\n",
        "\n",
        "    union = conjunto1.union(conjunto2)\n",
        "\n",
        "    print(\"Unión de ambos conjuntos:\")\n",
        "    for numero in union:\n",
        "        print(numero)\n",
        "\n",
        "if __name__ == \"__main__\":\n",
        "    main()\n"
      ],
      "metadata": {
        "id": "3udpKUUCKWG0"
      },
      "execution_count": null,
      "outputs": []
    }
  ]
}