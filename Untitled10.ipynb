{
  "nbformat": 4,
  "nbformat_minor": 0,
  "metadata": {
    "colab": {
      "provenance": [],
      "authorship_tag": "ABX9TyPevuahMjGf0VNDE2eoXZE0",
      "include_colab_link": true
    },
    "kernelspec": {
      "name": "python3",
      "display_name": "Python 3"
    },
    "language_info": {
      "name": "python"
    }
  },
  "cells": [
    {
      "cell_type": "markdown",
      "metadata": {
        "id": "view-in-github",
        "colab_type": "text"
      },
      "source": [
        "<a href=\"https://colab.research.google.com/github/Juanconvar/Calculadora/blob/main/Untitled10.ipynb\" target=\"_parent\"><img src=\"https://colab.research.google.com/assets/colab-badge.svg\" alt=\"Open In Colab\"/></a>"
      ]
    },
    {
      "cell_type": "code",
      "execution_count": 2,
      "metadata": {
        "colab": {
          "base_uri": "https://localhost:8080/"
        },
        "id": "mX-bOusJ2LhX",
        "outputId": "8f6d62e5-f446-424d-e360-8d5e23e20d4c"
      },
      "outputs": [
        {
          "output_type": "stream",
          "name": "stdout",
          "text": [
            "\n",
            "Árbol A:\n",
            "Root: 15\n",
            "    L--- 6\n",
            "        L--- 3\n",
            "            L--- 2\n",
            "            R--- 4\n",
            "        R--- 7\n",
            "            R--- 13\n",
            "                L--- 9\n",
            "    R--- 18\n",
            "        L--- 17\n",
            "        R--- 20\n",
            "\n",
            "Árbol B:\n",
            "Root: 25\n",
            "    L--- 15\n",
            "        L--- 10\n",
            "            L--- 4\n",
            "            R--- 12\n",
            "        R--- 22\n",
            "            L--- 18\n",
            "            R--- 24\n",
            "    R--- 50\n",
            "        L--- 35\n",
            "            L--- 31\n",
            "            R--- 44\n",
            "        R--- 70\n",
            "            L--- 66\n",
            "            R--- 90\n",
            "\n",
            "Árbol C:\n",
            "Root: 30\n",
            "    L--- 20\n",
            "        L--- 10\n",
            "        R--- 25\n",
            "    R--- 40\n",
            "        L--- 35\n",
            "        R--- 50\n",
            "\n",
            "Árbol D:\n",
            "Root: 27\n",
            "    L--- 14\n",
            "        L--- 10\n",
            "            L--- 9\n",
            "            R--- 12\n",
            "        R--- 19\n",
            "            L--- 18\n",
            "            R--- 20\n",
            "    R--- 35\n",
            "        L--- 31\n",
            "            L--- 30\n",
            "            R--- 33\n",
            "        R--- 42\n",
            "            L--- 38\n",
            "            R--- 45\n"
          ]
        }
      ],
      "source": [
        "class Node:\n",
        "    def __init__(self, value):\n",
        "        self.value = value\n",
        "        self.left = None\n",
        "        self.right = None\n",
        "class BinarySearchTree:\n",
        "    def __init__(self):\n",
        "        self.root = None\n",
        "    def insert(self, value):\n",
        "        if self.root is None:\n",
        "            self.root = Node(value)\n",
        "        else:\n",
        "            self._insert_recursive(self.root, value)\n",
        "    def _insert_recursive(self, current, value):\n",
        "        if value < current.value:\n",
        "            if current.left is None:\n",
        "                current.left = Node(value)\n",
        "            else:\n",
        "                self._insert_recursive(current.left, value)\n",
        "        elif value > current.value:\n",
        "            if current.right is None:\n",
        "                current.right = Node(value)\n",
        "            else:\n",
        "                self._insert_recursive(current.right, value)\n",
        "    def display(self, node=None, level=0, prefix=\"Root: \"):\n",
        "        if node is None:\n",
        "            node = self.root\n",
        "        print(\" \" * (4 * level) + prefix + str(node.value))\n",
        "        if node.left:\n",
        "            self.display(node.left, level + 1, \"L--- \")\n",
        "        if node.right:\n",
        "            self.display(node.right, level + 1, \"R--- \")\n",
        "def build_and_display_tree(data, name):\n",
        "    print(f\"\\nÁrbol {name}:\")\n",
        "    tree = BinarySearchTree()\n",
        "    for value in data:\n",
        "        tree.insert(value)\n",
        "    tree.display()\n",
        "\n",
        "data_a = [15, 6, 18, 3, 7, 17, 20, 2, 4, 13, 9]\n",
        "data_b = [25, 15, 50, 10, 22, 35, 70, 4, 12, 18, 24, 31, 44, 66, 90]\n",
        "data_c = [30, 20, 40, 10, 25, 35, 50]\n",
        "data_d = [27, 14, 35, 10, 19, 31, 42, 9, 12, 18, 20, 30, 33, 38, 45]\n",
        "\n",
        "build_and_display_tree(data_a, \"A\")\n",
        "build_and_display_tree(data_b, \"B\")\n",
        "build_and_display_tree(data_c, \"C\")\n",
        "build_and_display_tree(data_d, \"D\")\n"
      ]
    }
  ]
}