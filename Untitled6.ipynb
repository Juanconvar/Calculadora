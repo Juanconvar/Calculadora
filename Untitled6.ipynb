{
  "nbformat": 4,
  "nbformat_minor": 0,
  "metadata": {
    "colab": {
      "provenance": [],
      "authorship_tag": "ABX9TyOaAqh4ybBrnoIdgvenClB6",
      "include_colab_link": true
    },
    "kernelspec": {
      "name": "python3",
      "display_name": "Python 3"
    },
    "language_info": {
      "name": "python"
    }
  },
  "cells": [
    {
      "cell_type": "markdown",
      "metadata": {
        "id": "view-in-github",
        "colab_type": "text"
      },
      "source": [
        "<a href=\"https://colab.research.google.com/github/Juanconvar/Calculadora/blob/main/Untitled6.ipynb\" target=\"_parent\"><img src=\"https://colab.research.google.com/assets/colab-badge.svg\" alt=\"Open In Colab\"/></a>"
      ]
    },
    {
      "cell_type": "code",
      "execution_count": 4,
      "metadata": {
        "colab": {
          "base_uri": "https://localhost:8080/"
        },
        "id": "-p-Wa5ZRuoZ3",
        "outputId": "4b907211-13eb-4a44-fb98-ec0b360090f0"
      },
      "outputs": [
        {
          "output_type": "stream",
          "name": "stdout",
          "text": [
            "Ingrese los valores de las resistencias en ohmios, separados por espacios.\n",
            "Valores de resistencias: 20 40 50 \n",
            "La resistencia total del circuito es: 110.00 ohmios\n"
          ]
        }
      ],
      "source": [
        "def resistencia_total(resistencias):\n",
        "\n",
        "    resistencia_directa_total = 0\n",
        "    resistencias_paralelo = []\n",
        "\n",
        "    for resistencia in resistencias:\n",
        "        if resistencia <= 100:\n",
        "            resistencia_directa_total += resistencia\n",
        "        else:\n",
        "            resistencias_paralelo.append(resistencia)\n",
        "\n",
        "\n",
        "    if resistencias_paralelo:\n",
        "        inversos = [1 / r for r in resistencias_paralelo]\n",
        "        resistencia_paralela = 1 / sum(inversos)\n",
        "    else:\n",
        "        resistencia_paralela =\n",
        "\n",
        "\n",
        "    resistencia_total = resistencia_directa_total + resistencia_paralela\n",
        "\n",
        "    return resistencia_total\n",
        "\n",
        "def main():\n",
        "    print(\"Ingrese los valores de las resistencias en ohmios, separados por espacios.\")\n",
        "    entrada = input(\"Valores de resistencias: \")\n",
        "\n",
        "\n",
        "    try:\n",
        "        resistencias = [float(valor) for valor in entrada.split()]\n",
        "    except ValueError:\n",
        "        print(\"Error: Asegúrese de ingresar valores numéricos válidos.\")\n",
        "        return\n",
        "\n",
        "\n",
        "    total = resistencia_total(resistencias)\n",
        "    print(f\"La resistencia total del circuito es: {total:.2f} ohmios\")\n",
        "\n",
        "if __name__ == \"__main__\":\n",
        "    main()\n"
      ]
    }
  ]
}