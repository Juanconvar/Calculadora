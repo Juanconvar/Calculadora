{
  "cells": [
    {
      "cell_type": "markdown",
      "metadata": {
        "id": "view-in-github",
        "colab_type": "text"
      },
      "source": [
        "<a href=\"https://colab.research.google.com/github/Juanconvar/Calculadora/blob/main/Untitled6.ipynb\" target=\"_parent\"><img src=\"https://colab.research.google.com/assets/colab-badge.svg\" alt=\"Open In Colab\"/></a>"
      ]
    },
    {
      "cell_type": "code",
      "execution_count": null,
      "metadata": {
        "colab": {
          "base_uri": "https://localhost:8080/"
        },
        "id": "-p-Wa5ZRuoZ3",
        "outputId": "8aa5f346-98d8-4e9b-c836-9651de8da74e"
      },
      "outputs": [
        {
          "name": "stdout",
          "output_type": "stream",
          "text": [
            "Ingrese los valores de las resistencias en ohmios, separados por espacios.\n",
            "Valores de resistencias: 12 23 45 67 78\n",
            "La resistencia total del circuito es: 225.00 ohmios\n"
          ]
        }
      ],
      "source": [
        "def resistencia_total(resistencias):\n",
        "\n",
        "    resistencia_directa_total = 0\n",
        "    resistencias_paralelo = []\n",
        "\n",
        "\n",
        "    for resistencia in resistencias:\n",
        "        if resistencia <= 100:\n",
        "            resistencia_directa_total += resistencia\n",
        "        else:\n",
        "            resistencias_paralelo.append(resistencia)\n",
        "\n",
        "\n",
        "    if resistencias_paralelo:\n",
        "        inversos = [1 / r for r in resistencias_paralelo]\n",
        "        resistencia_paralela = 1 / sum(inversos)\n",
        "    else:\n",
        "        resistencia_paralela = 0\n",
        "\n",
        "\n",
        "    resistencia_total = resistencia_directa_total + resistencia_paralela\n",
        "\n",
        "    return resistencia_total\n",
        "\n",
        "def main():\n",
        "    print(\"Ingrese los valores de las resistencias en ohmios, separados por espacios.\")\n",
        "    entrada = input(\"Valores de resistencias: \")\n",
        "\n",
        "\n",
        "    try:\n",
        "        resistencias = [float(valor) for valor in entrada.split()]\n",
        "    except ValueError:\n",
        "        print(\"Error: Asegúrese de ingresar valores numéricos válidos.\")\n",
        "        return\n",
        "\n",
        "\n",
        "    total = resistencia_total(resistencias)\n",
        "    print(f\"La resistencia total del circuito es: {total:.2f} ohmios\")\n",
        "\n",
        "if __name__ == \"__main__\":\n",
        "    main()\n"
      ]
    },
    {
      "cell_type": "code",
      "execution_count": null,
      "metadata": {
        "colab": {
          "background_save": true,
          "base_uri": "https://localhost:8080/"
        },
        "id": "HYUkurKjxBDu",
        "outputId": "fac2f6a6-5394-42b8-8224-d6141a8b4b26"
      },
      "outputs": [
        {
          "output_type": "stream",
          "name": "stdout",
          "text": [
            "\n",
            "--- Instrucciones de la Ruleta Americana ---\n",
            "1. Número exacto (0-36): Apuesta a un número específico.\n",
            "2. Pares: Apuesta a los números pares.\n",
            "3. Impares: Apuesta a los números impares.\n",
            "4. Primera docena (1-12): Apuesta a los números del 1 al 12.\n",
            "5. Segunda docena (13-24): Apuesta a los números del 13 al 24.\n",
            "6. Tercera docena (25-36): Apuesta a los números del 25 al 36.\n",
            "\n",
            "Ingrese su apuesta (número exacto o tipo de grupo).\n",
            "Ejemplo: 7, pares, impares, primera docena, segunda docena, tercera docena\n",
            "Apuesta: 2\n",
            "\n",
            "El número de la ruleta es: 28\n",
            "Perdiste. \n",
            "\n",
            "¿Deseas jugar otra vez? (si/no): si\n",
            "Ingrese su apuesta (número exacto o tipo de grupo).\n",
            "Ejemplo: 7, pares, impares, primera docena, segunda docena, tercera docena\n"
          ]
        }
      ],
      "source": [
        "import random\n",
        "\n",
        "def mostrar_instrucciones():\n",
        "    \"\"\"Muestra las instrucciones de la ruleta.\"\"\"\n",
        "    print(\"\\n--- Instrucciones de la Ruleta Americana ---\")\n",
        "    print(\"1. Número exacto (0-36): Apuesta a un número específico.\")\n",
        "    print(\"2. Pares: Apuesta a los números pares.\")\n",
        "    print(\"3. Impares: Apuesta a los números impares.\")\n",
        "    print(\"4. Primera docena (1-12): Apuesta a los números del 1 al 12.\")\n",
        "    print(\"5. Segunda docena (13-24): Apuesta a los números del 13 al 24.\")\n",
        "    print(\"6. Tercera docena (25-36): Apuesta a los números del 25 al 36.\")\n",
        "    print(\"\")\n",
        "\n",
        "def obtener_grupo(numero):\n",
        "    \"\"\"Devuelve el grupo al que pertenece el número dado.\"\"\"\n",
        "    if numero == 0:\n",
        "        return '0'\n",
        "    elif numero in [2, 4, 6, 8, 10, 12, 14, 16, 18, 20, 22, 24, 26, 28, 30, 32, 34, 36]:\n",
        "        return 'pares'\n",
        "    elif numero in [1, 3, 5, 7, 9, 11, 13, 15, 17, 19, 21, 23, 25, 27, 29, 31, 33, 35]:\n",
        "        return 'impares'\n",
        "    elif numero in [1, 2, 3, 4, 5, 6, 7, 8, 9, 10, 11, 12]:\n",
        "        return 'primera docena'\n",
        "    elif numero in [13, 14, 15, 16, 17, 18, 19, 20, 21, 22, 23, 24]:\n",
        "        return 'segunda docena'\n",
        "    elif numero in [25, 26, 27, 28, 29, 30, 31, 32, 33, 34, 35, 36]:\n",
        "        return 'tercera docena'\n",
        "    else:\n",
        "        return 'desconocido'\n",
        "\n",
        "def main():\n",
        "    mostrar_instrucciones()\n",
        "\n",
        "    while True:\n",
        "\n",
        "        print(\"Ingrese su apuesta (número exacto o tipo de grupo).\")\n",
        "        print(\"Ejemplo: 7, pares, impares, primera docena, segunda docena, tercera docena\")\n",
        "        apuesta = input(\"Apuesta: \").strip().lower()\n",
        "\n",
        "\n",
        "        if apuesta.isdigit():\n",
        "            apuesta = int(apuesta)\n",
        "            if apuesta < 0 or apuesta > 36:\n",
        "                print(\"Número inválido. Debe estar entre 0 y 36.\")\n",
        "                continue\n",
        "        elif apuesta not in ['pares', 'impares', 'primera docena', 'segunda docena', 'tercera docena']:\n",
        "            print(\"Apuesta inválida. Ingrese un número válido o un grupo de números.\")\n",
        "            continue\n",
        "\n",
        "\n",
        "        numero_roulette = random.randint(0, 36)\n",
        "        print(f\"\\nEl número de la ruleta es: {numero_roulette}\")\n",
        "\n",
        "        grupo = obtener_grupo(numero_roulette)\n",
        "\n",
        "\n",
        "        if isinstance(apuesta, int):\n",
        "            if apuesta == numero_roulette:\n",
        "                print(\"¡Ganaste!\")\n",
        "            else:\n",
        "                print(\"Perdiste. \")\n",
        "        else:\n",
        "            if (apuesta == 'pares' and grupo == 'pares') or \\\n",
        "               (apuesta == 'impares' and grupo == 'impares') or \\\n",
        "               (apuesta == 'primera docena' and grupo == 'primera docena') or \\\n",
        "               (apuesta == 'segunda docena' and grupo == 'segunda docena') or \\\n",
        "               (apuesta == 'tercera docena' and grupo == 'tercera docena'):\n",
        "                print(\"¡Ganaste felicidades¡\")\n",
        "            else:\n",
        "                print(\"Perdistesuerte en la proxima .\")\n",
        "\n",
        "\n",
        "        jugar_otra = input(\"\\n¿Deseas jugar otra vez? (si/no): \").strip().lower()\n",
        "        if jugar_otra != 'si':\n",
        "            print(\"¡Gracias por jugar! Hasta la próxima.\")\n",
        "            break\n",
        "\n",
        "if __name__ == \"__main__\":\n",
        "    main()\n"
      ]
    }
  ],
  "metadata": {
    "colab": {
      "provenance": [],
      "authorship_tag": "ABX9TyPdP+XIVVMqzmGkEIsy00XI",
      "include_colab_link": true
    },
    "kernelspec": {
      "display_name": "Python 3",
      "name": "python3"
    },
    "language_info": {
      "name": "python"
    }
  },
  "nbformat": 4,
  "nbformat_minor": 0
}